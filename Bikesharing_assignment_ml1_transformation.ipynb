{
 "cells": [
  {
   "cell_type": "markdown",
   "id": "0646bd30-6176-4968-89ce-e95e1f202f2d",
   "metadata": {},
   "source": [
    "### Bikesharing Assignment ML1"
   ]
  },
  {
   "cell_type": "markdown",
   "id": "b2a3d6f4-818d-49a1-a113-6f67b3395acd",
   "metadata": {},
   "source": [
    "### import libraries"
   ]
  },
  {
   "cell_type": "code",
   "execution_count": 1,
   "id": "ef31569c-ed7a-4e10-89c9-6ab4526f3139",
   "metadata": {},
   "outputs": [
    {
     "name": "stdout",
     "output_type": "stream",
     "text": [
      "Collecting matplotlib\n",
      "  Using cached matplotlib-3.9.2.tar.gz (36.1 MB)\n",
      "  Installing build dependencies ... \u001b[?25lerror\n",
      "  \u001b[1;31merror\u001b[0m: \u001b[1msubprocess-exited-with-error\u001b[0m\n",
      "  \n",
      "  \u001b[31m×\u001b[0m \u001b[32mpip subprocess to install build dependencies\u001b[0m did not run successfully.\n",
      "  \u001b[31m│\u001b[0m exit code: \u001b[1;36m1\u001b[0m\n",
      "  \u001b[31m╰─>\u001b[0m \u001b[31m[146 lines of output]\u001b[0m\n",
      "  \u001b[31m   \u001b[0m Collecting meson-python>=0.13.1\n",
      "  \u001b[31m   \u001b[0m   Obtaining dependency information for meson-python>=0.13.1 from https://files.pythonhosted.org/packages/91/c0/104cb6244c83fe6bc3886f144cc433db0c0c78efac5dc00e409a5a08c87d/meson_python-0.16.0-py3-none-any.whl.metadata\n",
      "  \u001b[31m   \u001b[0m   Using cached meson_python-0.16.0-py3-none-any.whl.metadata (4.1 kB)\n",
      "  \u001b[31m   \u001b[0m Requirement already satisfied: pybind11>=2.6 in /data/user/0/ru.iiec.pydroid3/files/arm-linux-androideabi/lib/python3.11/site-packages (2.11.1)\n",
      "  \u001b[31m   \u001b[0m Collecting setuptools_scm>=7\n",
      "  \u001b[31m   \u001b[0m   Obtaining dependency information for setuptools_scm>=7 from https://files.pythonhosted.org/packages/a0/b9/1906bfeb30f2fc13bb39bf7ddb8749784c05faadbd18a21cf141ba37bff2/setuptools_scm-8.1.0-py3-none-any.whl.metadata\n",
      "  \u001b[31m   \u001b[0m   Using cached setuptools_scm-8.1.0-py3-none-any.whl.metadata (6.6 kB)\n",
      "  \u001b[31m   \u001b[0m Collecting numpy<2.3,>=2.0.0rc1\n",
      "  \u001b[31m   \u001b[0m   Using cached numpy-2.1.2.tar.gz (18.9 MB)\n",
      "  \u001b[31m   \u001b[0m   Installing build dependencies: started\n",
      "  \u001b[31m   \u001b[0m   Installing build dependencies: finished with status 'done'\n",
      "  \u001b[31m   \u001b[0m   Getting requirements to build wheel: started\n",
      "  \u001b[31m   \u001b[0m   Getting requirements to build wheel: finished with status 'done'\n",
      "  \u001b[31m   \u001b[0m   Preparing metadata (pyproject.toml): started\n",
      "  \u001b[31m   \u001b[0m   Preparing metadata (pyproject.toml): finished with status 'error'\n",
      "  \u001b[31m   \u001b[0m   \u001b[1;31merror\u001b[0m: \u001b[1msubprocess-exited-with-error\u001b[0m\n",
      "  \u001b[31m   \u001b[0m \n",
      "  \u001b[31m   \u001b[0m   \u001b[31m×\u001b[0m \u001b[32mPreparing metadata \u001b[0m\u001b[1;32m(\u001b[0m\u001b[32mpyproject.toml\u001b[0m\u001b[1;32m)\u001b[0m did not run successfully.\n",
      "  \u001b[31m   \u001b[0m   \u001b[31m│\u001b[0m exit code: \u001b[1;36m1\u001b[0m\n",
      "  \u001b[31m   \u001b[0m   \u001b[31m╰─>\u001b[0m \u001b[31m[116 lines of output]\u001b[0m\n",
      "  \u001b[31m   \u001b[0m   \u001b[31m   \u001b[0m \u001b[36m\u001b[1m+ /data/user/0/ru.iiec.pydroid3/files/arm-linux-androideabi/bin/python3.11 /data/data/ru.iiec.pydroid3/cache/pip-install-60s3qbub/numpy_56ca98a1ba7e43848055b8c2903fef7f/vendored-meson/meson/meson.py setup /data/data/ru.iiec.pydroid3/cache/pip-install-60s3qbub/numpy_56ca98a1ba7e43848055b8c2903fef7f /data/data/ru.iiec.pydroid3/cache/pip-install-60s3qbub/numpy_56ca98a1ba7e43848055b8c2903fef7f/.mesonpy-0zux86_i -Dbuildtype=release -Db_ndebug=if-release -Db_vscrt=md --native-file=/data/data/ru.iiec.pydroid3/cache/pip-install-60s3qbub/numpy_56ca98a1ba7e43848055b8c2903fef7f/.mesonpy-0zux86_i/meson-python-native-file.ini\u001b[0m\n",
      "  \u001b[31m   \u001b[0m   \u001b[31m   \u001b[0m The Meson build system\n",
      "  \u001b[31m   \u001b[0m   \u001b[31m   \u001b[0m Version: 1.4.99\n",
      "  \u001b[31m   \u001b[0m   \u001b[31m   \u001b[0m Source dir: /data/data/ru.iiec.pydroid3/cache/pip-install-60s3qbub/numpy_56ca98a1ba7e43848055b8c2903fef7f\n",
      "  \u001b[31m   \u001b[0m   \u001b[31m   \u001b[0m Build dir: /data/data/ru.iiec.pydroid3/cache/pip-install-60s3qbub/numpy_56ca98a1ba7e43848055b8c2903fef7f/.mesonpy-0zux86_i\n",
      "  \u001b[31m   \u001b[0m   \u001b[31m   \u001b[0m Build type: native build\n",
      "  \u001b[31m   \u001b[0m   \u001b[31m   \u001b[0m Project name: NumPy\n",
      "  \u001b[31m   \u001b[0m   \u001b[31m   \u001b[0m Project version: 2.1.2\n",
      "  \u001b[31m   \u001b[0m   \u001b[31m   \u001b[0m C compiler for the host machine: cc (gcc 11.4.0 \"cc (GCC) 11.4.0\")\n",
      "  \u001b[31m   \u001b[0m   \u001b[31m   \u001b[0m C linker for the host machine: cc ld.bfd 2.40\n",
      "  \u001b[31m   \u001b[0m   \u001b[31m   \u001b[0m C++ compiler for the host machine: c++ (gcc 11.4.0 \"c++ (GCC) 11.4.0\")\n",
      "  \u001b[31m   \u001b[0m   \u001b[31m   \u001b[0m C++ linker for the host machine: c++ ld.bfd 2.40\n",
      "  \u001b[31m   \u001b[0m   \u001b[31m   \u001b[0m Cython compiler for the host machine: cython (cython 3.0.11)\n",
      "  \u001b[31m   \u001b[0m   \u001b[31m   \u001b[0m Host machine cpu family: arm\n",
      "  \u001b[31m   \u001b[0m   \u001b[31m   \u001b[0m Host machine cpu: armv8l\n",
      "  \u001b[31m   \u001b[0m   \u001b[31m   \u001b[0m Program python found: YES (/data/user/0/ru.iiec.pydroid3/files/arm-linux-androideabi/bin/python3.11)\n",
      "  \u001b[31m   \u001b[0m   \u001b[31m   \u001b[0m Found pkg-config: YES (/data/user/0/ru.iiec.pydroid3/files/bin/pkg-config) 0.28\n",
      "  \u001b[31m   \u001b[0m   \u001b[31m   \u001b[0m Run-time dependency python found: YES 3.11\n",
      "  \u001b[31m   \u001b[0m   \u001b[31m   \u001b[0m Has header \"Python.h\" with dependency python-3.11: YES\n",
      "  \u001b[31m   \u001b[0m   \u001b[31m   \u001b[0m Compiler for C supports arguments -fno-strict-aliasing: YES\n",
      "  \u001b[31m   \u001b[0m   \u001b[31m   \u001b[0m Message: During parsing cpu-dispatch: The following CPU features were ignored due to platform incompatibility or lack of support:\n",
      "  \u001b[31m   \u001b[0m   \u001b[31m   \u001b[0m \"XOP FMA4\"\n",
      "  \u001b[31m   \u001b[0m   \u001b[31m   \u001b[0m Test features \"NEON\" : Supported\n",
      "  \u001b[31m   \u001b[0m   \u001b[31m   \u001b[0m Test features \"NEON_FP16\" : Supported\n",
      "  \u001b[31m   \u001b[0m   \u001b[31m   \u001b[0m Test features \"NEON_VFPV4\" : Supported\n",
      "  \u001b[31m   \u001b[0m   \u001b[31m   \u001b[0m Test features \"ASIMD\" : Unsupported due to Compiler fails against the test code of \"ASIMD\"\n",
      "  \u001b[31m   \u001b[0m   \u001b[31m   \u001b[0m Test features \"ASIMDHP\" : Unsupported due to Implied feature \"ASIMD\" is not supported\n",
      "  \u001b[31m   \u001b[0m   \u001b[31m   \u001b[0m Test features \"ASIMDFHM\" : Unsupported due to Implied feature \"ASIMD\" is not supported\n",
      "  \u001b[31m   \u001b[0m   \u001b[31m   \u001b[0m Test features \"SVE\" : Unsupported due to Implied feature \"ASIMD\" is not supported\n",
      "  \u001b[31m   \u001b[0m   \u001b[31m   \u001b[0m Configuring npy_cpu_dispatch_config.h using configuration\n",
      "  \u001b[31m   \u001b[0m   \u001b[31m   \u001b[0m Message:\n",
      "  \u001b[31m   \u001b[0m   \u001b[31m   \u001b[0m CPU Optimization Options\n",
      "  \u001b[31m   \u001b[0m   \u001b[31m   \u001b[0m   baseline:\n",
      "  \u001b[31m   \u001b[0m   \u001b[31m   \u001b[0m     Requested : min\n",
      "  \u001b[31m   \u001b[0m   \u001b[31m   \u001b[0m     Enabled   :\n",
      "  \u001b[31m   \u001b[0m   \u001b[31m   \u001b[0m   dispatch:\n",
      "  \u001b[31m   \u001b[0m   \u001b[31m   \u001b[0m     Requested : max -xop -fma4\n",
      "  \u001b[31m   \u001b[0m   \u001b[31m   \u001b[0m     Enabled   : NEON NEON_FP16 NEON_VFPV4\n",
      "  \u001b[31m   \u001b[0m   \u001b[31m   \u001b[0m\n",
      "  \u001b[31m   \u001b[0m   \u001b[31m   \u001b[0m Library m found: YES\n",
      "  \u001b[31m   \u001b[0m   \u001b[31m   \u001b[0m Run-time dependency scipy-openblas found: NO (tried pkgconfig)\n",
      "  \u001b[31m   \u001b[0m   \u001b[31m   \u001b[0m Found CMake: /data/user/0/ru.iiec.pydroid3/files/arm-linux-androideabi/bin/cmake (3.26.4)\n",
      "  \u001b[31m   \u001b[0m   \u001b[31m   \u001b[0m WARNING: CMake Toolchain: Failed to determine CMake compilers state\n",
      "  \u001b[31m   \u001b[0m   \u001b[31m   \u001b[0m Run-time dependency openblas found: NO (tried pkgconfig, pkgconfig, pkgconfig, system and cmake)\n",
      "  \u001b[31m   \u001b[0m   \u001b[31m   \u001b[0m Run-time dependency flexiblas found: NO (tried pkgconfig and cmake)\n",
      "  \u001b[31m   \u001b[0m   \u001b[31m   \u001b[0m Run-time dependency blis found: NO (tried pkgconfig and cmake)\n",
      "  \u001b[31m   \u001b[0m   \u001b[31m   \u001b[0m Run-time dependency blas found: NO (tried pkgconfig and system)\n",
      "  \u001b[31m   \u001b[0m   \u001b[31m   \u001b[0m Run-time dependency openblas found: NO (tried pkgconfig, pkgconfig, pkgconfig, system and cmake)\n",
      "  \u001b[31m   \u001b[0m   \u001b[31m   \u001b[0m Run-time dependency flexiblas found: NO (tried pkgconfig and cmake)\n",
      "  \u001b[31m   \u001b[0m   \u001b[31m   \u001b[0m Run-time dependency lapack found: NO (tried pkgconfig and system)\n",
      "  \u001b[31m   \u001b[0m   \u001b[31m   \u001b[0m Checking if \"Check atomic builtins without -latomic\" : links: NO\n",
      "  \u001b[31m   \u001b[0m   \u001b[31m   \u001b[0m Library atomic found: NO\n",
      "  \u001b[31m   \u001b[0m   \u001b[31m   \u001b[0m Program _build_utils/process_src_template.py found: YES (/data/user/0/ru.iiec.pydroid3/files/arm-linux-androideabi/bin/python3.11 /data/data/ru.iiec.pydroid3/cache/pip-install-60s3qbub/numpy_56ca98a1ba7e43848055b8c2903fef7f/numpy/_build_utils/process_src_template.py)\n",
      "  \u001b[31m   \u001b[0m   \u001b[31m   \u001b[0m Program _build_utils/tempita.py found: YES (/data/user/0/ru.iiec.pydroid3/files/arm-linux-androideabi/bin/python3.11 /data/data/ru.iiec.pydroid3/cache/pip-install-60s3qbub/numpy_56ca98a1ba7e43848055b8c2903fef7f/numpy/_build_utils/tempita.py)\n",
      "  \u001b[31m   \u001b[0m   \u001b[31m   \u001b[0m Configuring __config__.py using configuration\n",
      "  \u001b[31m   \u001b[0m   \u001b[31m   \u001b[0m ../numpy/meson.build:440: WARNING: The variable(s) 'BLAS_INCLUDEDIR', 'BLAS_LIBDIR', 'BLAS_OPENBLAS_CONFIG', 'BLAS_PCFILEDIR', 'BLAS_TYPE_NAME', 'BLAS_VERSION', 'LAPACK_INCLUDEDIR', 'LAPACK_LIBDIR', 'LAPACK_OPENBLAS_CONFIG', 'LAPACK_PCFILEDIR', 'LAPACK_TYPE_NAME', 'LAPACK_VERSION' in the input file 'numpy/__config__.py.in' are not present in the given configuration data.\n",
      "  \u001b[31m   \u001b[0m   \u001b[31m   \u001b[0m Checking for size of \"short\" : 2\n",
      "  \u001b[31m   \u001b[0m   \u001b[31m   \u001b[0m Checking for size of \"int\" : 4\n",
      "  \u001b[31m   \u001b[0m   \u001b[31m   \u001b[0m Checking for size of \"long\" : 4\n",
      "  \u001b[31m   \u001b[0m   \u001b[31m   \u001b[0m Checking for size of \"long long\" : 8\n",
      "  \u001b[31m   \u001b[0m   \u001b[31m   \u001b[0m Checking for size of \"float\" : 4\n",
      "  \u001b[31m   \u001b[0m   \u001b[31m   \u001b[0m Checking for size of \"double\" : 8\n",
      "  \u001b[31m   \u001b[0m   \u001b[31m   \u001b[0m Checking for size of \"long double\" : 8\n",
      "  \u001b[31m   \u001b[0m   \u001b[31m   \u001b[0m Checking for size of \"size_t\" : 4\n",
      "  \u001b[31m   \u001b[0m   \u001b[31m   \u001b[0m Checking for size of \"size_t\" : 4 (cached)\n",
      "  \u001b[31m   \u001b[0m   \u001b[31m   \u001b[0m Checking for size of \"wchar_t\" : 4\n",
      "  \u001b[31m   \u001b[0m   \u001b[31m   \u001b[0m Checking for size of \"off_t\" : 4\n",
      "  \u001b[31m   \u001b[0m   \u001b[31m   \u001b[0m Checking for size of \"Py_intptr_t\" with dependency python-3.11: 4\n",
      "  \u001b[31m   \u001b[0m   \u001b[31m   \u001b[0m Checking for size of \"PY_LONG_LONG\" with dependency python-3.11: 8\n",
      "  \u001b[31m   \u001b[0m   \u001b[31m   \u001b[0m Has header \"complex.h\" : YES\n",
      "  \u001b[31m   \u001b[0m   \u001b[31m   \u001b[0m Checking for type \"complex float\" : YES\n",
      "  \u001b[31m   \u001b[0m   \u001b[31m   \u001b[0m Checking for size of \"complex float\" : 8\n",
      "  \u001b[31m   \u001b[0m   \u001b[31m   \u001b[0m Checking for type \"complex double\" : YES\n",
      "  \u001b[31m   \u001b[0m   \u001b[31m   \u001b[0m Checking for size of \"complex double\" : 16\n",
      "  \u001b[31m   \u001b[0m   \u001b[31m   \u001b[0m Checking for type \"complex long double\" : YES\n",
      "  \u001b[31m   \u001b[0m   \u001b[31m   \u001b[0m Checking for size of \"complex long double\" : 16\n",
      "  \u001b[31m   \u001b[0m   \u001b[31m   \u001b[0m Checking for function \"sin\" with dependency -lm: YES\n",
      "  \u001b[31m   \u001b[0m   \u001b[31m   \u001b[0m Checking for function \"cos\" with dependency -lm: YES\n",
      "  \u001b[31m   \u001b[0m   \u001b[31m   \u001b[0m Checking for function \"tan\" with dependency -lm: YES\n",
      "  \u001b[31m   \u001b[0m   \u001b[31m   \u001b[0m Checking for function \"sinh\" with dependency -lm: YES\n",
      "  \u001b[31m   \u001b[0m   \u001b[31m   \u001b[0m Checking for function \"cosh\" with dependency -lm: YES\n",
      "  \u001b[31m   \u001b[0m   \u001b[31m   \u001b[0m Checking for function \"tanh\" with dependency -lm: YES\n",
      "  \u001b[31m   \u001b[0m   \u001b[31m   \u001b[0m Checking for function \"fabs\" with dependency -lm: YES\n",
      "  \u001b[31m   \u001b[0m   \u001b[31m   \u001b[0m Checking for function \"floor\" with dependency -lm: YES\n",
      "  \u001b[31m   \u001b[0m   \u001b[31m   \u001b[0m Checking for function \"ceil\" with dependency -lm: YES\n",
      "  \u001b[31m   \u001b[0m   \u001b[31m   \u001b[0m Checking for function \"sqrt\" with dependency -lm: YES\n",
      "  \u001b[31m   \u001b[0m   \u001b[31m   \u001b[0m Checking for function \"log10\" with dependency -lm: YES\n",
      "  \u001b[31m   \u001b[0m   \u001b[31m   \u001b[0m Checking for function \"log\" with dependency -lm: YES\n",
      "  \u001b[31m   \u001b[0m   \u001b[31m   \u001b[0m Checking for function \"exp\" with dependency -lm: YES\n",
      "  \u001b[31m   \u001b[0m   \u001b[31m   \u001b[0m Checking for function \"asin\" with dependency -lm: YES\n",
      "  \u001b[31m   \u001b[0m   \u001b[31m   \u001b[0m Checking for function \"acos\" with dependency -lm: YES\n",
      "  \u001b[31m   \u001b[0m   \u001b[31m   \u001b[0m Checking for function \"atan\" with dependency -lm: YES\n",
      "  \u001b[31m   \u001b[0m   \u001b[31m   \u001b[0m Checking for function \"fmod\" with dependency -lm: YES\n",
      "  \u001b[31m   \u001b[0m   \u001b[31m   \u001b[0m Checking for function \"modf\" with dependency -lm: YES\n",
      "  \u001b[31m   \u001b[0m   \u001b[31m   \u001b[0m Checking for function \"frexp\" with dependency -lm: YES\n",
      "  \u001b[31m   \u001b[0m   \u001b[31m   \u001b[0m Checking for function \"ldexp\" with dependency -lm: YES\n",
      "  \u001b[31m   \u001b[0m   \u001b[31m   \u001b[0m Checking for function \"expm1\" with dependency -lm: YES\n",
      "  \u001b[31m   \u001b[0m   \u001b[31m   \u001b[0m Checking for function \"log1p\" with dependency -lm: YES\n",
      "  \u001b[31m   \u001b[0m   \u001b[31m   \u001b[0m Checking for function \"acosh\" with dependency -lm: YES\n",
      "  \u001b[31m   \u001b[0m   \u001b[31m   \u001b[0m Checking for function \"asinh\" with dependency -lm: YES\n",
      "  \u001b[31m   \u001b[0m   \u001b[31m   \u001b[0m Checking for function \"atanh\" with dependency -lm: YES\n",
      "  \u001b[31m   \u001b[0m   \u001b[31m   \u001b[0m Checking for function \"rint\" with dependency -lm: YES\n",
      "  \u001b[31m   \u001b[0m   \u001b[31m   \u001b[0m Checking for function \"trunc\" with dependency -lm: YES\n",
      "  \u001b[31m   \u001b[0m   \u001b[31m   \u001b[0m Checking for function \"exp2\" with dependency -lm: YES\n",
      "  \u001b[31m   \u001b[0m   \u001b[31m   \u001b[0m Checking for function \"copysign\" with dependency -lm: YES\n",
      "  \u001b[31m   \u001b[0m   \u001b[31m   \u001b[0m Checking for function \"nextafter\" with dependency -lm: YES\n",
      "  \u001b[31m   \u001b[0m   \u001b[31m   \u001b[0m Checking for function \"cbrt\" with dependency -lm: YES\n",
      "  \u001b[31m   \u001b[0m   \u001b[31m   \u001b[0m Checking for function \"log2\" with dependency -lm: YES\n",
      "  \u001b[31m   \u001b[0m   \u001b[31m   \u001b[0m Checking for function \"pow\" with dependency -lm: YES\n",
      "  \u001b[31m   \u001b[0m   \u001b[31m   \u001b[0m Checking for function \"hypot\" with dependency -lm: YES\n",
      "  \u001b[31m   \u001b[0m   \u001b[31m   \u001b[0m Checking for function \"atan2\" with dependency -lm: YES\n",
      "  \u001b[31m   \u001b[0m   \u001b[31m   \u001b[0m Checking for function \"csin\" with dependency -lm: NO\n",
      "  \u001b[31m   \u001b[0m   \u001b[31m   \u001b[0m\n",
      "  \u001b[31m   \u001b[0m   \u001b[31m   \u001b[0m ../numpy/_core/meson.build:202:4: ERROR: Problem encountered: Function `csin` not found\n",
      "  \u001b[31m   \u001b[0m   \u001b[31m   \u001b[0m\n",
      "  \u001b[31m   \u001b[0m   \u001b[31m   \u001b[0m A full log can be found at /data/data/ru.iiec.pydroid3/cache/pip-install-60s3qbub/numpy_56ca98a1ba7e43848055b8c2903fef7f/.mesonpy-0zux86_i/meson-logs/meson-log.txt\n",
      "  \u001b[31m   \u001b[0m   \u001b[31m   \u001b[0m \u001b[31m[end of output]\u001b[0m\n",
      "  \u001b[31m   \u001b[0m \n",
      "  \u001b[31m   \u001b[0m   \u001b[1;35mnote\u001b[0m: This error originates from a subprocess, and is likely not a problem with pip.\n",
      "  \u001b[31m   \u001b[0m \u001b[1;31merror\u001b[0m: \u001b[1mmetadata-generation-failed\u001b[0m\n",
      "  \u001b[31m   \u001b[0m \n",
      "  \u001b[31m   \u001b[0m \u001b[31m×\u001b[0m Encountered error while generating package metadata.\n",
      "  \u001b[31m   \u001b[0m \u001b[31m╰─>\u001b[0m See above for output.\n",
      "  \u001b[31m   \u001b[0m \n",
      "  \u001b[31m   \u001b[0m \u001b[1;35mnote\u001b[0m: This is an issue with the package mentioned above, not pip.\n",
      "  \u001b[31m   \u001b[0m \u001b[1;36mhint\u001b[0m: See above for details.\n",
      "  \u001b[31m   \u001b[0m \u001b[31m[end of output]\u001b[0m\n",
      "  \n",
      "  \u001b[1;35mnote\u001b[0m: This error originates from a subprocess, and is likely not a problem with pip.\n",
      "\u001b[1;31merror\u001b[0m: \u001b[1msubprocess-exited-with-error\u001b[0m\n",
      "\n",
      "\u001b[31m×\u001b[0m \u001b[32mpip subprocess to install build dependencies\u001b[0m did not run successfully.\n",
      "\u001b[31m│\u001b[0m exit code: \u001b[1;36m1\u001b[0m\n",
      "\u001b[31m╰─>\u001b[0m See above for output.\n",
      "\n",
      "\u001b[1;35mnote\u001b[0m: This error originates from a subprocess, and is likely not a problem with pip.\n",
      "\u001b[?25h"
     ]
    },
    {
     "ename": "ModuleNotFoundError",
     "evalue": "No module named 'Matplotlib'",
     "output_type": "error",
     "traceback": [
      "\u001b[0;31m---------------------------------------------------------------------------\u001b[0m",
      "\u001b[0;31mModuleNotFoundError\u001b[0m                       Traceback (most recent call last)",
      "Cell \u001b[0;32mIn[1], line 4\u001b[0m\n\u001b[1;32m      2\u001b[0m \u001b[38;5;28;01mimport\u001b[39;00m \u001b[38;5;21;01mpandas\u001b[39;00m \u001b[38;5;28;01mas\u001b[39;00m \u001b[38;5;21;01mpd\u001b[39;00m\n\u001b[1;32m      3\u001b[0m \u001b[38;5;28;01mimport\u001b[39;00m \u001b[38;5;21;01mnumpy\u001b[39;00m \u001b[38;5;28;01mas\u001b[39;00m \u001b[38;5;21;01mnp\u001b[39;00m\n\u001b[0;32m----> 4\u001b[0m \u001b[38;5;28;01mimport\u001b[39;00m \u001b[38;5;21;01mMatplotlib\u001b[39;00m\u001b[38;5;21;01m.\u001b[39;00m\u001b[38;5;21;01mpyplot\u001b[39;00m \u001b[38;5;28;01mas\u001b[39;00m \u001b[38;5;21;01mplt\u001b[39;00m\n\u001b[1;32m      5\u001b[0m \u001b[38;5;28;01mimport\u001b[39;00m \u001b[38;5;21;01mSeaborn\u001b[39;00m \u001b[38;5;28;01mas\u001b[39;00m \u001b[38;5;21;01msns\u001b[39;00m\n",
      "\u001b[0;31mModuleNotFoundError\u001b[0m: No module named 'Matplotlib'"
     ]
    }
   ],
   "source": [
    "!pip3 install matplotlib\n",
    "import pandas as pd\n",
    "import numpy as np\n",
    "import Matplotlib.pyplot as plt\n",
    "import Seaborn as sns\n",
    "\n"
   ]
  },
  {
   "cell_type": "markdown",
   "id": "17af3da0-b90d-4f6f-b5d0-db5680eacd92",
   "metadata": {},
   "source": [
    "# Data Reading"
   ]
  },
  {
   "cell_type": "code",
   "execution_count": null,
   "id": "5ba57b33-f079-4d8a-ba47-67e06ddd3f83",
   "metadata": {},
   "outputs": [],
   "source": [
    "day_dataset= pd.read_csv('day.csv')\n",
    "day_df=pd.DataFrame(day_dataset)\n",
    "print(day_df)"
   ]
  },
  {
   "cell_type": "markdown",
   "id": "dcc9eb4a-a235-4103-a6ff-92e1206067b1",
   "metadata": {},
   "source": [
    "\n",
    "#### converted csv dataset to Dataframe\n",
    "- Its convenient to understand Data in   Table Format\n",
    "- Lets get some standard information \n"
   ]
  },
  {
   "cell_type": "code",
   "execution_count": null,
   "id": "c0d82734-0327-41dd-ae13-736db96d9b2a",
   "metadata": {},
   "outputs": [],
   "source": [
    "day_df.info()"
   ]
  },
  {
   "cell_type": "markdown",
   "id": "9cac92d4-c224-448e-af5a-45eb65ede2bb",
   "metadata": {},
   "source": [
    "\n",
    "#### Insights about data we got:\n",
    "- Different types of data present \n",
    "- Column Names \n",
    "- Which column contains Null values\n",
    "  with count\n",
    "- No of data entries\n",
    "#### Identification of categorical and continuous variables looking at datatypes"
   ]
  },
  {
   "cell_type": "markdown",
   "id": "ca0f8285-c1ec-40df-84d5-42de1c848d33",
   "metadata": {},
   "source": [
    "**Data types present**: \n",
    " - int :continuous variable \n",
    " - float:continuous variable\n",
    " - Object: categorical variable "
   ]
  },
  {
   "cell_type": "markdown",
   "id": "41f01410-5272-4f34-b71a-bd8fdd02cd7a",
   "metadata": {},
   "source": [
    "##### Now if we need stastical Insights about Data such as\n",
    "**Mean,Median,Mode,Min ,Max that too \n",
    "for every column**\n"
   ]
  },
  {
   "cell_type": "code",
   "execution_count": null,
   "id": "3630c9c9-c6be-4f33-8195-549e7e7e0689",
   "metadata": {},
   "outputs": [],
   "source": [
    "day_df.describe()"
   ]
  },
  {
   "cell_type": "markdown",
   "id": "2ef6c13b-2797-4b0a-9f6c-29f0fdff5c50",
   "metadata": {},
   "source": [
    "#### Structure of data such as :\n",
    "- Number Of Rows,Columns,Dimensions"
   ]
  },
  {
   "cell_type": "code",
   "execution_count": null,
   "id": "6e45ba28-4696-4e44-b4e7-fac8905f0089",
   "metadata": {},
   "outputs": [],
   "source": [
    "day_df.shape"
   ]
  },
  {
   "cell_type": "markdown",
   "id": "014d6226-b71c-490d-8589-4208a72af61c",
   "metadata": {},
   "source": [
    "**No of Rows:730 , No of columns:16**"
   ]
  },
  {
   "cell_type": "markdown",
   "id": "2ab1e0bc-8ac7-4ea8-b88e-23bab9fd45ed",
   "metadata": {},
   "source": [
    "**Duplicate Rows Check & Missing value check**"
   ]
  },
  {
   "cell_type": "code",
   "execution_count": null,
   "id": "0939549c-d682-487e-9a05-15199e84dfe8",
   "metadata": {},
   "outputs": [],
   "source": [
    "day_df.duplicated().sum()\n",
    "print(day_df.isna().sum())"
   ]
  },
  {
   "cell_type": "markdown",
   "id": "fac8c01f-c049-4d8c-a6d1-d4118113f669",
   "metadata": {},
   "source": [
    "#### No missing values present"
   ]
  },
  {
   "cell_type": "markdown",
   "id": "8f378910-29e8-4ca1-a3b0-17f0d2cf304d",
   "metadata": {},
   "source": [
    "##### Derived new Matrix Day_name from column dteday"
   ]
  },
  {
   "cell_type": "code",
   "execution_count": null,
   "id": "c2d3b412-1aa4-4f0e-9c97-eff95d0aa600",
   "metadata": {},
   "outputs": [],
   "source": [
    "day_df['Day_name']=day_df['dteday']"
   ]
  },
  {
   "cell_type": "code",
   "execution_count": null,
   "id": "d43ab299-b662-4e3e-a75f-e054a9c9a48a",
   "metadata": {},
   "outputs": [],
   "source": [
    "day_df"
   ]
  },
  {
   "cell_type": "markdown",
   "id": "e680a805-5827-4c8e-b876-492f1097bb4f",
   "metadata": {},
   "source": [
    "**New Day_name column created,we already\n",
    "  have yr,month column \n",
    "  so dte_day column not required.**\n",
    "  - We can safely drop dte_day column"
   ]
  },
  {
   "cell_type": "code",
   "execution_count": null,
   "id": "142bf50d-cacc-4a64-8cab-a1952fc9c2c3",
   "metadata": {},
   "outputs": [],
   "source": [
    "day_df=day_df.drop('dteday',axis=1)\n",
    "day_df"
   ]
  },
  {
   "cell_type": "markdown",
   "id": "20c0762d-dab9-4cec-8d5a-b5a9b5154403",
   "metadata": {},
   "source": [
    "- Irrelevant column dte_day removed without any dataloss"
   ]
  },
  {
   "cell_type": "markdown",
   "id": "791fad7e-6c0c-4f2e-aeae-188c8eec42f1",
   "metadata": {},
   "source": [
    "### Data preparation"
   ]
  },
  {
   "cell_type": "markdown",
   "id": "1a1d0295-99b0-48ed-87a8-ca94bd887000",
   "metadata": {},
   "source": [
    "#### yr month already exist ,now we want\n",
    "#### data to be more meaningful\n",
    "### Data Transformation \n",
    "*I want Day column to have values like*\n",
    "**Monday,Tuesday,Wednesday,Thursday,Friday,Saturday,Sunday\n",
    "corresponding to value it has like \n",
    "01,02,03,04,05,06,07**"
   ]
  },
  {
   "cell_type": "code",
   "execution_count": null,
   "id": "6683a4f7-6834-4aaa-a883-e70d181991a3",
   "metadata": {},
   "outputs": [],
   "source": [
    " days=[el.split('-')[0] for el in day_df['Day_name']]"
   ]
  },
  {
   "cell_type": "code",
   "execution_count": null,
   "id": "61e5eb3a-99d7-4f3a-a936-7f50527bc4c8",
   "metadata": {},
   "outputs": [],
   "source": [
    " names=[]\n",
    "for el in day_df['Day_name']:\n",
    "    names.append(\n",
    "    pd.to_datetime(el,dayfirst=True).strftime('%A'))\n",
    "     "
   ]
  },
  {
   "cell_type": "code",
   "execution_count": null,
   "id": "cb472f6e-8174-4ec9-ae28-d8ac909fbe8d",
   "metadata": {},
   "outputs": [],
   "source": [
    "No_Of_Entries=len(day_df)\n",
    "No_Of_Weeks= round(No_Of_Entries/7)\n",
    "No_Of_Months=round(No_Of_Weeks/4)\n",
    "Years_count=round(No_Of_Months/12)\n",
    "print('No_Of_Months:',No_Of_Months)\n",
    "print('No_Of_Weeks:',No_Of_Weeks)\n",
    "print('No_Of_Years:',Years_count)\n"
   ]
  },
  {
   "cell_type": "code",
   "execution_count": null,
   "id": "1df4ca46-dbaf-424b-ac66-7df34de10a34",
   "metadata": {},
   "outputs": [],
   "source": [
    "day_df['Day_name']=names\n",
    "print(day_df['Day_name'])"
   ]
  },
  {
   "cell_type": "markdown",
   "id": "fa22c601-9307-4777-8687-05ae16ae4166",
   "metadata": {},
   "source": [
    "### Data Visualization"
   ]
  },
  {
   "cell_type": "markdown",
   "id": "5be2bda9-ffef-47af-ba78-b902eecdcb70",
   "metadata": {},
   "source": [
    "##### pairplot "
   ]
  },
  {
   "cell_type": "code",
   "execution_count": null,
   "id": "d473f918-107d-4a20-af40-acec7c5dddda",
   "metadata": {},
   "outputs": [],
   "source": []
  }
 ],
 "metadata": {
  "kernelspec": {
   "display_name": "Python 3 (ipykernel)",
   "language": "python",
   "name": "python3"
  },
  "language_info": {
   "codemirror_mode": {
    "name": "ipython",
    "version": 3
   },
   "file_extension": ".py",
   "mimetype": "text/x-python",
   "name": "python",
   "nbconvert_exporter": "python",
   "pygments_lexer": "ipython3",
   "version": "3.11.4"
  },
  "widgets": {
   "application/vnd.jupyter.widget-state+json": {
    "state": {},
    "version_major": 2,
    "version_minor": 0
   }
  }
 },
 "nbformat": 4,
 "nbformat_minor": 5
}
